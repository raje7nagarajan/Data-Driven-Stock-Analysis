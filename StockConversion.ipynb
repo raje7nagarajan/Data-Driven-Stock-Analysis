{
 "cells": [
  {
   "cell_type": "code",
   "execution_count": 3,
   "metadata": {},
   "outputs": [
    {
     "name": "stdout",
     "output_type": "stream",
     "text": [
      "CSV files created successfully based on the symbols\n"
     ]
    }
   ],
   "source": [
    "import os\n",
    "import yaml\n",
    "import csv\n",
    "from collections import defaultdict\n",
    "\n",
    "# Path to your top-level data folder\n",
    "root_Dir = r\"D:\\DA\\Stock Analysis\\Stock_Data\"\n",
    "all_records=[]\n",
    "\n",
    "# Store entries for each symbol(dictionary to collect ticker-wise data)\n",
    "symbol_data = defaultdict(list)\n",
    "\n",
    "# Traverse month folders\n",
    "for month_folder in os.listdir(root_Dir):\n",
    "    month_path = os.path.join(root_Dir, month_folder)\n",
    "    if not os.path.isdir(month_path):\n",
    "        continue\n",
    "\n",
    "    # Traverse YAML files inside each month\n",
    "    for filename in os.listdir(month_path):\n",
    "        if filename.endswith(\".yaml\"):\n",
    "            file_path = os.path.join(month_path, filename)\n",
    "            with open(file_path, \"r\") as file:\n",
    "                try:\n",
    "                    entries = yaml.safe_load(file)\n",
    "                    if not isinstance(entries, list):\n",
    "                        print(f\"Different format in {file_path}, So, skipping it\")\n",
    "                        continue\n",
    "                except yaml.YAMLError as e:\n",
    "                    print(f\"Failed to parse {file_path}: {e}\")\n",
    "                    continue\n",
    "\n",
    "                for entry in entries:\n",
    "                    ticker = entry.get(\"Ticker\")\n",
    "                    if ticker:\n",
    "                        symbol_data[ticker].append(entry)\n",
    "\n",
    "# Output directory for CSVs\n",
    "OUTPUT_DIR = \"Stock_Data_CSV\"\n",
    "os.makedirs(OUTPUT_DIR, exist_ok=True)\n",
    "\n",
    "# Write data per symbol\n",
    "for ticker, records in symbol_data.items():\n",
    "    output_file = os.path.join(OUTPUT_DIR, f\"{ticker}.csv\")\n",
    "    \n",
    "    if not records:\n",
    "        continue\n",
    "\n",
    "    # Use all possible keys as headers\n",
    "    headers = sorted(set().union(*(record.keys() for record in records)))\n",
    "\n",
    "    with open(output_file, \"w\", newline='') as csvfile:\n",
    "        writer = csv.DictWriter(csvfile, fieldnames=headers)\n",
    "        writer.writeheader()\n",
    "        for record in records:\n",
    "            writer.writerow(record)\n",
    "    # Add ticker info and store for combined CSV\n",
    "    for record in records:\n",
    "        record[\"Ticker\"] = ticker  # Ensure Ticker is included\n",
    "        all_records.append(record)\n",
    "\n",
    "# Write combined CSV\n",
    "if all_records:\n",
    "    combined_headers = sorted(set().union(*(r.keys() for r in all_records)))\n",
    "    combined_csv_path = os.path.join(r\"D:\\DA\\Stock Analysis\\Stock_Data\", \"all_tickers_combined.csv\")\n",
    "    with open(combined_csv_path, \"w\", newline='') as f:\n",
    "        writer = csv.DictWriter(f, fieldnames=combined_headers)\n",
    "        writer.writeheader()\n",
    "        for record in all_records:\n",
    "            writer.writerow(record)\n",
    "\n",
    "print(\"CSV files created successfully based on the symbols\")\n"
   ]
  },
  {
   "cell_type": "markdown",
   "metadata": {},
   "source": [
    "SQL Data Storage"
   ]
  },
  {
   "cell_type": "code",
   "execution_count": null,
   "metadata": {},
   "outputs": [],
   "source": [
    "%pip install mysql-connector-python"
   ]
  },
  {
   "cell_type": "code",
   "execution_count": 5,
   "metadata": {},
   "outputs": [
    {
     "name": "stdout",
     "output_type": "stream",
     "text": [
      "Database created successfully!\n"
     ]
    }
   ],
   "source": [
    "import mysql.connector\n",
    "import pandas as pd\n",
    "\n",
    "# Establish connection to the MySQL database in XAMPP\n",
    "connection = mysql.connector.connect(\n",
    "    host='localhost',       # XAMPP MySQL localhost\n",
    "    user='root',            # Default user for MySQL in XAMPP\n",
    "    password=''            # Default password for MySQL in XAMPP (usually empty)\n",
    ")\n",
    "\n",
    "cursor = connection.cursor()\n",
    "\n",
    "# Create a new database\n",
    "cursor.execute(\"CREATE DATABASE IF NOT EXISTS StockData\")\n",
    "\n",
    "# Commit changes (though in this case, commit is optional)\n",
    "connection.commit()\n",
    "\n",
    "# Close the cursor and connection\n",
    "cursor.close()\n",
    "connection.close()\n",
    "\n",
    "print(\"Database created successfully!\")"
   ]
  },
  {
   "cell_type": "code",
   "execution_count": 14,
   "metadata": {},
   "outputs": [
    {
     "name": "stdout",
     "output_type": "stream",
     "text": [
      "Table created successfully!\n"
     ]
    }
   ],
   "source": [
    "import mysql.connector\n",
    "import pandas as pd\n",
    "\n",
    "# Establish connection to the MySQL database in XAMPP\n",
    "connection = mysql.connector.connect(\n",
    "    host='localhost',\n",
    "    user='root',\n",
    "    password=''\n",
    ")\n",
    "# Create a cursor object to interact with the MySQL server\n",
    "cursor = connection.cursor()\n",
    "\n",
    "# Check if the database exists and create it if not\n",
    "cursor.execute(\"CREATE DATABASE IF NOT EXISTS StockData\")\n",
    "\n",
    "# Switch to the newly created database\n",
    "cursor.execute(\"USE StockData\")\n",
    "\n",
    "# Create a table named 'stock'\n",
    "cursor.execute('''\n",
    "    CREATE TABLE IF NOT EXISTS stock (\n",
    "        ticker VARCHAR(100),\n",
    "        close FLOAT NOT NULL,\n",
    "        date VARCHAR(100),\n",
    "        high FLOAT NOT NULL,\n",
    "        low FLOAT NOT NULL,\n",
    "        month VARCHAR(100),\n",
    "        open FLOAT NOT NULL,\n",
    "        volume INT\n",
    "    )\n",
    "''')\n",
    "\n",
    "# Commit the changes\n",
    "connection.commit()\n",
    "\n",
    "# Close the cursor and connection\n",
    "cursor.close()\n",
    "connection.close()\n",
    "\n",
    "print(\"Table created successfully!\")"
   ]
  },
  {
   "cell_type": "code",
   "execution_count": 16,
   "metadata": {},
   "outputs": [
    {
     "name": "stdout",
     "output_type": "stream",
     "text": [
      "Data from CSV has been inserted into the users table successfully!\n"
     ]
    }
   ],
   "source": [
    "import mysql.connector\n",
    "import csv\n",
    "\n",
    "# Establish a connection to MySQL database\n",
    "connection = mysql.connector.connect(\n",
    "    host=\"localhost\",  \n",
    "    user=\"root\",  \n",
    "    password=\"\",  \n",
    "    database=\"StockData\" \n",
    ")\n",
    "\n",
    "# Create a cursor object to interact with the database\n",
    "cursor = connection.cursor()\n",
    "\n",
    "# Open and read the CSV file\n",
    "with open(r'D:\\DA\\Stock Analysis\\Stock_Data\\all_tickers_combined.csv', mode='r') as file:\n",
    "    csv_reader = csv.reader(file)\n",
    "    next(csv_reader)  # Skip the header row \n",
    "\n",
    "    # Iterate over the rows in the CSV file and insert them into the table\n",
    "    for row in csv_reader:\n",
    "        # Insert data into the movies table\n",
    "        cursor.execute('''\n",
    "            INSERT INTO stock (ticker, close, date, high, low, month, open, volume)\n",
    "            VALUES (%s, %s, %s, %s, %s, %s, %s, %s)\n",
    "        ''', (row[0], row[1], row[2], row[3], row[4], row[5], row[6], row[7]))  \n",
    "\n",
    "# Commit the transaction\n",
    "connection.commit()\n",
    "\n",
    "# Close the cursor and connection\n",
    "cursor.close()\n",
    "connection.close()\n",
    "\n",
    "print(\"Data from CSV has been inserted into the users table successfully!\")"
   ]
  },
  {
   "cell_type": "code",
   "execution_count": 18,
   "metadata": {},
   "outputs": [
    {
     "name": "stdout",
     "output_type": "stream",
     "text": [
      "Data from CSV has been inserted into the users table successfully!\n"
     ]
    }
   ],
   "source": [
    "#Sector data storage\n",
    "import mysql.connector\n",
    "import pandas as pd\n",
    "\n",
    "# Establish connection to the MySQL database in XAMPP\n",
    "connection = mysql.connector.connect(\n",
    "    host='localhost',\n",
    "    user='root',\n",
    "    password='',\n",
    "    database=\"StockData\"\n",
    ")\n",
    "# Create a cursor object to interact with the MySQL server\n",
    "cursor = connection.cursor()\n",
    "\n",
    "# Switch to the newly created database\n",
    "cursor.execute(\"USE StockData\")\n",
    "\n",
    "# Create a table named 'sectpr'\n",
    "cursor.execute('''\n",
    "    CREATE TABLE IF NOT EXISTS sector (\n",
    "        company VARCHAR(100),\n",
    "        sector VARCHAR(100),\n",
    "        symbol VARCHAR(100)\n",
    "    )\n",
    "''')\n",
    "\n",
    "# Open and read the CSV file\n",
    "with open(r'D:\\DA\\Stock Analysis\\Stock_Data\\Sector_data.csv', mode='r') as file:\n",
    "    csv_reader = csv.reader(file)\n",
    "    next(csv_reader)  # Skip the header row \n",
    "\n",
    "    # Iterate over the rows in the CSV file and insert them into the table\n",
    "    for row in csv_reader:\n",
    "        # Insert data into the movies table\n",
    "        cursor.execute('''\n",
    "            INSERT INTO sector (company, sector, symbol)\n",
    "            VALUES (%s, %s, %s)\n",
    "        ''', (row[0], row[1], row[2]))  \n",
    "\n",
    "# Commit the transaction\n",
    "connection.commit()\n",
    "\n",
    "# Close the cursor and connection\n",
    "cursor.close()\n",
    "connection.close()\n",
    "\n",
    "print(\"Data from CSV has been inserted into the users table successfully!\")"
   ]
  }
 ],
 "metadata": {
  "kernelspec": {
   "display_name": "Python 3",
   "language": "python",
   "name": "python3"
  },
  "language_info": {
   "codemirror_mode": {
    "name": "ipython",
    "version": 3
   },
   "file_extension": ".py",
   "mimetype": "text/x-python",
   "name": "python",
   "nbconvert_exporter": "python",
   "pygments_lexer": "ipython3",
   "version": "3.13.2"
  }
 },
 "nbformat": 4,
 "nbformat_minor": 2
}
